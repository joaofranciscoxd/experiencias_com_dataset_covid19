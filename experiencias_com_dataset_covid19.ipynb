{
  "nbformat": 4,
  "nbformat_minor": 0,
  "metadata": {
    "colab": {
      "name": "experiencias_com_dataset_covid19.ipynb",
      "provenance": []
    },
    "kernelspec": {
      "name": "python3",
      "display_name": "Python 3"
    },
    "language_info": {
      "name": "python"
    },
    "accelerator": "GPU"
  },
  "cells": [
    {
      "cell_type": "markdown",
      "metadata": {
        "id": "ggZLxqa1Mlvd"
      },
      "source": [
        "Este script foi baseado no canal youtube.com/c/canalsandeco\n",
        "\n",
        "youtube.com/watch?v=qDuVk4HPZ1g"
      ]
    },
    {
      "cell_type": "code",
      "metadata": {
        "id": "5s1fwIWNTxgh",
        "colab": {
          "base_uri": "https://localhost:8080/"
        },
        "outputId": "ebbc93e0-c779-4b77-d0c6-829deb4078d1"
      },
      "source": [
        "from google.colab import drive\n",
        "drive.mount('/content/drive')"
      ],
      "execution_count": 1,
      "outputs": [
        {
          "output_type": "stream",
          "name": "stdout",
          "text": [
            "Drive already mounted at /content/drive; to attempt to forcibly remount, call drive.mount(\"/content/drive\", force_remount=True).\n"
          ]
        }
      ]
    },
    {
      "cell_type": "code",
      "metadata": {
        "id": "fG0MZ7DSlNr3"
      },
      "source": [
        "from PIL import Image\n",
        "from os import listdir\n",
        "from os.path import isdir\n",
        "import numpy as np\n",
        "from sklearn.model_selection import train_test_split\n",
        "from sklearn.preprocessing import LabelBinarizer\n",
        "from tensorflow.keras.preprocessing.image import ImageDataGenerator\n",
        "from tensorflow.keras.applications import VGG19\n",
        "from tensorflow.keras.utils import to_categorical\n",
        "from tensorflow.keras import layers\n",
        "from tensorflow.keras import models\n",
        "from tensorflow.keras import optimizers\n",
        "\n",
        "import matplotlib.pyplot as plt\n",
        "%matplotlib inline"
      ],
      "execution_count": 2,
      "outputs": []
    },
    {
      "cell_type": "code",
      "metadata": {
        "id": "SBTyY7Udla3E"
      },
      "source": [
        "#Funções para seleção dos arquivos do dataset\n",
        "fator = 0.5\n",
        "def select_image(filename):\n",
        "    # load image from file\n",
        "    image = Image.open(filename)\n",
        "    # convert to RGB, if needed\n",
        "    image = image.convert('RGB')\n",
        "    width, height = image.size\n",
        "    tamanho  = int(width*fator)\n",
        "    image = image.resize((tamanho,tamanho))#299 , 149\n",
        "    # convert to array\n",
        "    return np.asarray(image),tamanho\n",
        "\n",
        "def load_classes(diretorio, classe, imagens, labels):\n",
        "    # iterando arquivos\n",
        "\n",
        "    for filename in listdir(diretorio):\n",
        "\n",
        "        path = diretorio + filename\n",
        "        try:\n",
        "            array_image , tamanho = select_image(path)\n",
        "            imagens.append(array_image)\n",
        "            labels.append(classe)\n",
        "        except:\n",
        "            print(\"Erro ao ler imagem {}\".format(path))\n",
        "\n",
        "    return imagens, labels, tamanho\n",
        "\n",
        "def select_data_set(diretorio):\n",
        "\n",
        "    imagens = list()\n",
        "    labels = list()\n",
        "\n",
        "    for subdir in listdir(diretorio):\n",
        "        # path\n",
        "        path = diretorio + subdir + '/'\n",
        "\n",
        "        if not isdir(path):\n",
        "            continue\n",
        "        imagens, labels,tamanho = load_classes(path, subdir, imagens, labels)\n",
        "\n",
        "    return imagens, labels,tamanho"
      ],
      "execution_count": 3,
      "outputs": []
    },
    {
      "cell_type": "code",
      "metadata": {
        "id": "x9TdoOG9lcoV"
      },
      "source": [
        "#fonte:https://www.kaggle.com/tawsifurrahman/covid19-radiography-database\n",
        "covid_dataset = \"/content/drive/MyDrive/dataset/\"\n",
        "#indexando o dataset\n",
        "imagens, labels,tamanho  = select_data_set(covid_dataset)\n",
        "imagens = np.array(imagens) / 255.0  ## convertendo de lista para array\n",
        "labels = np.array(labels)  ## convertendo de lista para array"
      ],
      "execution_count": 4,
      "outputs": []
    },
    {
      "cell_type": "code",
      "metadata": {
        "colab": {
          "base_uri": "https://localhost:8080/"
        },
        "id": "5V8zqxU2y5rD",
        "outputId": "0672fa27-bf3d-47e7-9adb-5ecd6e0239e6"
      },
      "source": [
        "tamanho"
      ],
      "execution_count": 5,
      "outputs": [
        {
          "output_type": "execute_result",
          "data": {
            "text/plain": [
              "149"
            ]
          },
          "metadata": {},
          "execution_count": 5
        }
      ]
    },
    {
      "cell_type": "code",
      "metadata": {
        "id": "q-cSwYOBld8l"
      },
      "source": [
        "#normalizando as labels\n",
        "lb = LabelBinarizer()\n",
        "labels = lb.fit_transform(labels)\n",
        "labels = to_categorical(labels)"
      ],
      "execution_count": 6,
      "outputs": []
    },
    {
      "cell_type": "code",
      "metadata": {
        "id": "c0AdE0W0llVd"
      },
      "source": [
        "#Variáveis estáticas\n",
        "batch_size   = 56#32\n",
        "input_shape  = (tamanho, tamanho, 3)\n",
        "#random_state = 42\n",
        "alpha        = 1e-5\n",
        "epoch        = 100"
      ],
      "execution_count": 7,
      "outputs": []
    },
    {
      "cell_type": "markdown",
      "metadata": {
        "id": "x1TkXr1O0hLw"
      },
      "source": [
        ""
      ]
    },
    {
      "cell_type": "code",
      "metadata": {
        "id": "UNxnTBlelmdc"
      },
      "source": [
        "#tratamento para não ficar preso no mínimo local\n",
        "from tensorflow.keras.callbacks import ModelCheckpoint, ReduceLROnPlateau\n",
        "\n",
        "#filepath=\"/content/drive/MyDrive/best_model/transferlearning_weights.hdf5\"\n",
        "#checkpoint = ModelCheckpoint(filepath, monitor='val_acc', verbose=1, save_best_only=True, mode='max')\n",
        "lr_reduce = ReduceLROnPlateau(monitor='val_acc', factor=0.1, min_delta=alpha, patience=5, verbose=1)\n",
        "#callbacks = [checkpoint, lr_reduce]\n",
        "callbacks = [lr_reduce]\n"
      ],
      "execution_count": 8,
      "outputs": []
    },
    {
      "cell_type": "code",
      "metadata": {
        "id": "6_YOlYkZmGxg"
      },
      "source": [
        "#separação do dataset entre treino e teste\n",
        "(trainX, testX, trainY, testY) = train_test_split(imagens, labels, test_size=0.25, stratify=labels) #, random_state=random_state"
      ],
      "execution_count": 9,
      "outputs": []
    },
    {
      "cell_type": "code",
      "metadata": {
        "id": "vh2fi7yfmIqs"
      },
      "source": [
        "#DATA AUGMENTATION\n",
        "train_datagen = ImageDataGenerator(\n",
        "        rotation_range=20,\n",
        "        zoom_range=0.2)"
      ],
      "execution_count": 10,
      "outputs": []
    },
    {
      "cell_type": "code",
      "metadata": {
        "id": "cTQD6Wo-1xA4"
      },
      "source": [
        "train_datagen.fit(trainX)"
      ],
      "execution_count": 11,
      "outputs": []
    },
    {
      "cell_type": "code",
      "metadata": {
        "id": "ksovjxp61w1q"
      },
      "source": [
        "data_aug = train_datagen.flow(trainX, trainY, batch_size=batch_size)"
      ],
      "execution_count": 12,
      "outputs": []
    },
    {
      "cell_type": "code",
      "metadata": {
        "id": "VCh-04gumJvV",
        "colab": {
          "base_uri": "https://localhost:8080/"
        },
        "outputId": "4ddb85b7-ea8b-46ad-88fb-da1b858160f8"
      },
      "source": [
        "#chamando o vgg19\n",
        "conv_base = VGG19(weights='imagenet', include_top=False, input_shape=input_shape)\n",
        "conv_base.summary()"
      ],
      "execution_count": 13,
      "outputs": [
        {
          "output_type": "stream",
          "name": "stdout",
          "text": [
            "Model: \"vgg19\"\n",
            "_________________________________________________________________\n",
            "Layer (type)                 Output Shape              Param #   \n",
            "=================================================================\n",
            "input_1 (InputLayer)         [(None, 149, 149, 3)]     0         \n",
            "_________________________________________________________________\n",
            "block1_conv1 (Conv2D)        (None, 149, 149, 64)      1792      \n",
            "_________________________________________________________________\n",
            "block1_conv2 (Conv2D)        (None, 149, 149, 64)      36928     \n",
            "_________________________________________________________________\n",
            "block1_pool (MaxPooling2D)   (None, 74, 74, 64)        0         \n",
            "_________________________________________________________________\n",
            "block2_conv1 (Conv2D)        (None, 74, 74, 128)       73856     \n",
            "_________________________________________________________________\n",
            "block2_conv2 (Conv2D)        (None, 74, 74, 128)       147584    \n",
            "_________________________________________________________________\n",
            "block2_pool (MaxPooling2D)   (None, 37, 37, 128)       0         \n",
            "_________________________________________________________________\n",
            "block3_conv1 (Conv2D)        (None, 37, 37, 256)       295168    \n",
            "_________________________________________________________________\n",
            "block3_conv2 (Conv2D)        (None, 37, 37, 256)       590080    \n",
            "_________________________________________________________________\n",
            "block3_conv3 (Conv2D)        (None, 37, 37, 256)       590080    \n",
            "_________________________________________________________________\n",
            "block3_conv4 (Conv2D)        (None, 37, 37, 256)       590080    \n",
            "_________________________________________________________________\n",
            "block3_pool (MaxPooling2D)   (None, 18, 18, 256)       0         \n",
            "_________________________________________________________________\n",
            "block4_conv1 (Conv2D)        (None, 18, 18, 512)       1180160   \n",
            "_________________________________________________________________\n",
            "block4_conv2 (Conv2D)        (None, 18, 18, 512)       2359808   \n",
            "_________________________________________________________________\n",
            "block4_conv3 (Conv2D)        (None, 18, 18, 512)       2359808   \n",
            "_________________________________________________________________\n",
            "block4_conv4 (Conv2D)        (None, 18, 18, 512)       2359808   \n",
            "_________________________________________________________________\n",
            "block4_pool (MaxPooling2D)   (None, 9, 9, 512)         0         \n",
            "_________________________________________________________________\n",
            "block5_conv1 (Conv2D)        (None, 9, 9, 512)         2359808   \n",
            "_________________________________________________________________\n",
            "block5_conv2 (Conv2D)        (None, 9, 9, 512)         2359808   \n",
            "_________________________________________________________________\n",
            "block5_conv3 (Conv2D)        (None, 9, 9, 512)         2359808   \n",
            "_________________________________________________________________\n",
            "block5_conv4 (Conv2D)        (None, 9, 9, 512)         2359808   \n",
            "_________________________________________________________________\n",
            "block5_pool (MaxPooling2D)   (None, 4, 4, 512)         0         \n",
            "=================================================================\n",
            "Total params: 20,024,384\n",
            "Trainable params: 20,024,384\n",
            "Non-trainable params: 0\n",
            "_________________________________________________________________\n"
          ]
        }
      ]
    },
    {
      "cell_type": "code",
      "metadata": {
        "id": "gNXfC4iRmNve",
        "colab": {
          "base_uri": "https://localhost:8080/"
        },
        "outputId": "41e49ca8-fc48-4988-a6b5-8b5e04b2d4f8"
      },
      "source": [
        "#Retreinando a vgg19 a partir da camada ....\n",
        "camada = 'block5_conv3'\n",
        "conv_base.trainable = True\n",
        "set_trainable = False\n",
        "\n",
        "for layer in conv_base.layers:\n",
        "  if layer.name == camada:\n",
        "    set_trainable = True\n",
        "  if set_trainable:\n",
        "    layer.trainable = True\n",
        "  else:\n",
        "    layer.trainable = False\n",
        "\n",
        "conv_base.summary()"
      ],
      "execution_count": 14,
      "outputs": [
        {
          "output_type": "stream",
          "name": "stdout",
          "text": [
            "Model: \"vgg19\"\n",
            "_________________________________________________________________\n",
            "Layer (type)                 Output Shape              Param #   \n",
            "=================================================================\n",
            "input_1 (InputLayer)         [(None, 149, 149, 3)]     0         \n",
            "_________________________________________________________________\n",
            "block1_conv1 (Conv2D)        (None, 149, 149, 64)      1792      \n",
            "_________________________________________________________________\n",
            "block1_conv2 (Conv2D)        (None, 149, 149, 64)      36928     \n",
            "_________________________________________________________________\n",
            "block1_pool (MaxPooling2D)   (None, 74, 74, 64)        0         \n",
            "_________________________________________________________________\n",
            "block2_conv1 (Conv2D)        (None, 74, 74, 128)       73856     \n",
            "_________________________________________________________________\n",
            "block2_conv2 (Conv2D)        (None, 74, 74, 128)       147584    \n",
            "_________________________________________________________________\n",
            "block2_pool (MaxPooling2D)   (None, 37, 37, 128)       0         \n",
            "_________________________________________________________________\n",
            "block3_conv1 (Conv2D)        (None, 37, 37, 256)       295168    \n",
            "_________________________________________________________________\n",
            "block3_conv2 (Conv2D)        (None, 37, 37, 256)       590080    \n",
            "_________________________________________________________________\n",
            "block3_conv3 (Conv2D)        (None, 37, 37, 256)       590080    \n",
            "_________________________________________________________________\n",
            "block3_conv4 (Conv2D)        (None, 37, 37, 256)       590080    \n",
            "_________________________________________________________________\n",
            "block3_pool (MaxPooling2D)   (None, 18, 18, 256)       0         \n",
            "_________________________________________________________________\n",
            "block4_conv1 (Conv2D)        (None, 18, 18, 512)       1180160   \n",
            "_________________________________________________________________\n",
            "block4_conv2 (Conv2D)        (None, 18, 18, 512)       2359808   \n",
            "_________________________________________________________________\n",
            "block4_conv3 (Conv2D)        (None, 18, 18, 512)       2359808   \n",
            "_________________________________________________________________\n",
            "block4_conv4 (Conv2D)        (None, 18, 18, 512)       2359808   \n",
            "_________________________________________________________________\n",
            "block4_pool (MaxPooling2D)   (None, 9, 9, 512)         0         \n",
            "_________________________________________________________________\n",
            "block5_conv1 (Conv2D)        (None, 9, 9, 512)         2359808   \n",
            "_________________________________________________________________\n",
            "block5_conv2 (Conv2D)        (None, 9, 9, 512)         2359808   \n",
            "_________________________________________________________________\n",
            "block5_conv3 (Conv2D)        (None, 9, 9, 512)         2359808   \n",
            "_________________________________________________________________\n",
            "block5_conv4 (Conv2D)        (None, 9, 9, 512)         2359808   \n",
            "_________________________________________________________________\n",
            "block5_pool (MaxPooling2D)   (None, 4, 4, 512)         0         \n",
            "=================================================================\n",
            "Total params: 20,024,384\n",
            "Trainable params: 4,719,616\n",
            "Non-trainable params: 15,304,768\n",
            "_________________________________________________________________\n"
          ]
        }
      ]
    },
    {
      "cell_type": "code",
      "metadata": {
        "id": "Dzv9OFtrmPpB",
        "colab": {
          "base_uri": "https://localhost:8080/"
        },
        "outputId": "a48230d9-af51-44ce-b1a2-0c812dfead14"
      },
      "source": [
        "#configurando o modelo\n",
        "model = models.Sequential()\n",
        "model.add(conv_base)\n",
        "model.add(layers.GlobalAveragePooling2D())\n",
        "model.add(layers.BatchNormalization())\n",
        "model.add(layers.Flatten())\n",
        "model.add(layers.Dense(128, activation='relu'))\n",
        "model.add(layers.Dropout(0.6))\n",
        "model.add(layers.Dense(2, activation='softmax'))\n",
        "model.summary()"
      ],
      "execution_count": 15,
      "outputs": [
        {
          "output_type": "stream",
          "name": "stdout",
          "text": [
            "Model: \"sequential\"\n",
            "_________________________________________________________________\n",
            "Layer (type)                 Output Shape              Param #   \n",
            "=================================================================\n",
            "vgg19 (Functional)           (None, 4, 4, 512)         20024384  \n",
            "_________________________________________________________________\n",
            "global_average_pooling2d (Gl (None, 512)               0         \n",
            "_________________________________________________________________\n",
            "batch_normalization (BatchNo (None, 512)               2048      \n",
            "_________________________________________________________________\n",
            "flatten (Flatten)            (None, 512)               0         \n",
            "_________________________________________________________________\n",
            "dense (Dense)                (None, 128)               65664     \n",
            "_________________________________________________________________\n",
            "dropout (Dropout)            (None, 128)               0         \n",
            "_________________________________________________________________\n",
            "dense_1 (Dense)              (None, 2)                 258       \n",
            "=================================================================\n",
            "Total params: 20,092,354\n",
            "Trainable params: 4,786,562\n",
            "Non-trainable params: 15,305,792\n",
            "_________________________________________________________________\n"
          ]
        }
      ]
    },
    {
      "cell_type": "code",
      "metadata": {
        "id": "izC5F_NqmRF1"
      },
      "source": [
        "model.compile(loss='binary_crossentropy',\n",
        "                  optimizer='adam',\n",
        "                  metrics=['acc'])"
      ],
      "execution_count": 16,
      "outputs": []
    },
    {
      "cell_type": "code",
      "metadata": {
        "colab": {
          "base_uri": "https://localhost:8080/"
        },
        "id": "NYrU2ce29T9K",
        "outputId": "0a47f9bc-4870-499a-f961-6945f2893195"
      },
      "source": [
        "history = model.fit(x=data_aug,\n",
        "                    steps_per_epoch=len(trainX)// batch_size,\n",
        "                    validation_data=(testX, testY),\n",
        "                    validation_steps=len(testX) // batch_size,\n",
        "                    callbacks=callbacks,\n",
        "                    epochs = epoch)"
      ],
      "execution_count": 17,
      "outputs": [
        {
          "output_type": "stream",
          "name": "stdout",
          "text": [
            "Epoch 1/100\n",
            "96/96 [==============================] - 105s 704ms/step - loss: 0.3519 - acc: 0.8556 - val_loss: 1.5429 - val_acc: 0.6167\n",
            "Epoch 2/100\n",
            "96/96 [==============================] - 45s 468ms/step - loss: 0.2580 - acc: 0.8914 - val_loss: 0.1979 - val_acc: 0.9463\n",
            "Epoch 3/100\n",
            "96/96 [==============================] - 45s 469ms/step - loss: 0.2319 - acc: 0.9061 - val_loss: 0.1591 - val_acc: 0.9353\n",
            "Epoch 4/100\n",
            "96/96 [==============================] - 45s 471ms/step - loss: 0.2006 - acc: 0.9242 - val_loss: 0.6899 - val_acc: 0.7417\n",
            "Epoch 5/100\n",
            "96/96 [==============================] - 45s 467ms/step - loss: 0.1950 - acc: 0.9260 - val_loss: 0.2532 - val_acc: 0.9038\n",
            "Epoch 6/100\n",
            "96/96 [==============================] - 45s 468ms/step - loss: 0.1865 - acc: 0.9264 - val_loss: 0.1474 - val_acc: 0.9419\n",
            "Epoch 7/100\n",
            "96/96 [==============================] - 45s 469ms/step - loss: 0.1646 - acc: 0.9357 - val_loss: 0.1289 - val_acc: 0.9580\n",
            "Epoch 8/100\n",
            "96/96 [==============================] - 45s 468ms/step - loss: 0.1559 - acc: 0.9378 - val_loss: 0.2598 - val_acc: 0.9043\n",
            "Epoch 9/100\n",
            "96/96 [==============================] - 46s 481ms/step - loss: 0.1498 - acc: 0.9454 - val_loss: 0.1551 - val_acc: 0.9574\n",
            "Epoch 10/100\n",
            "96/96 [==============================] - 45s 471ms/step - loss: 0.1433 - acc: 0.9424 - val_loss: 0.1001 - val_acc: 0.9663\n",
            "Epoch 11/100\n",
            "96/96 [==============================] - 46s 479ms/step - loss: 0.1351 - acc: 0.9467 - val_loss: 0.4065 - val_acc: 0.8479\n",
            "Epoch 12/100\n",
            "96/96 [==============================] - 46s 475ms/step - loss: 0.1291 - acc: 0.9491 - val_loss: 0.1164 - val_acc: 0.9613\n",
            "Epoch 13/100\n",
            "96/96 [==============================] - 45s 473ms/step - loss: 0.1249 - acc: 0.9538 - val_loss: 0.2628 - val_acc: 0.8988\n",
            "Epoch 14/100\n",
            "96/96 [==============================] - 46s 475ms/step - loss: 0.1243 - acc: 0.9549 - val_loss: 0.1181 - val_acc: 0.9574\n",
            "Epoch 15/100\n",
            "96/96 [==============================] - 46s 477ms/step - loss: 0.1177 - acc: 0.9531 - val_loss: 0.1206 - val_acc: 0.9591\n",
            "\n",
            "Epoch 00015: ReduceLROnPlateau reducing learning rate to 0.00010000000474974513.\n",
            "Epoch 16/100\n",
            "96/96 [==============================] - 46s 479ms/step - loss: 0.1017 - acc: 0.9618 - val_loss: 0.1012 - val_acc: 0.9596\n",
            "Epoch 17/100\n",
            "96/96 [==============================] - 46s 477ms/step - loss: 0.0790 - acc: 0.9709 - val_loss: 0.0835 - val_acc: 0.9685\n",
            "Epoch 18/100\n",
            "96/96 [==============================] - 46s 477ms/step - loss: 0.0758 - acc: 0.9708 - val_loss: 0.0972 - val_acc: 0.9607\n",
            "Epoch 19/100\n",
            "96/96 [==============================] - 45s 472ms/step - loss: 0.0708 - acc: 0.9771 - val_loss: 0.0951 - val_acc: 0.9618\n",
            "Epoch 20/100\n",
            "96/96 [==============================] - 46s 476ms/step - loss: 0.0762 - acc: 0.9704 - val_loss: 0.0778 - val_acc: 0.9740\n",
            "Epoch 21/100\n",
            "96/96 [==============================] - 46s 474ms/step - loss: 0.0753 - acc: 0.9706 - val_loss: 0.1045 - val_acc: 0.9607\n",
            "Epoch 22/100\n",
            "96/96 [==============================] - 45s 471ms/step - loss: 0.0717 - acc: 0.9734 - val_loss: 0.0834 - val_acc: 0.9723\n",
            "Epoch 23/100\n",
            "96/96 [==============================] - 46s 478ms/step - loss: 0.0786 - acc: 0.9711 - val_loss: 0.0856 - val_acc: 0.9718\n",
            "Epoch 24/100\n",
            "96/96 [==============================] - 46s 480ms/step - loss: 0.0726 - acc: 0.9721 - val_loss: 0.0780 - val_acc: 0.9762\n",
            "Epoch 25/100\n",
            "96/96 [==============================] - 46s 474ms/step - loss: 0.0688 - acc: 0.9741 - val_loss: 0.1058 - val_acc: 0.9618\n",
            "Epoch 26/100\n",
            "96/96 [==============================] - 46s 474ms/step - loss: 0.0690 - acc: 0.9750 - val_loss: 0.0844 - val_acc: 0.9718\n",
            "Epoch 27/100\n",
            "96/96 [==============================] - 45s 471ms/step - loss: 0.0630 - acc: 0.9778 - val_loss: 0.0866 - val_acc: 0.9701\n",
            "Epoch 28/100\n",
            "96/96 [==============================] - 46s 480ms/step - loss: 0.0576 - acc: 0.9801 - val_loss: 0.0845 - val_acc: 0.9707\n",
            "Epoch 29/100\n",
            "96/96 [==============================] - 46s 475ms/step - loss: 0.0668 - acc: 0.9763 - val_loss: 0.0935 - val_acc: 0.9652\n",
            "\n",
            "Epoch 00029: ReduceLROnPlateau reducing learning rate to 1.0000000474974514e-05.\n",
            "Epoch 30/100\n",
            "96/96 [==============================] - 46s 479ms/step - loss: 0.0637 - acc: 0.9776 - val_loss: 0.0897 - val_acc: 0.9690\n",
            "Epoch 31/100\n",
            "96/96 [==============================] - 46s 480ms/step - loss: 0.0572 - acc: 0.9778 - val_loss: 0.0908 - val_acc: 0.9679\n",
            "Epoch 32/100\n",
            "96/96 [==============================] - 46s 474ms/step - loss: 0.0590 - acc: 0.9788 - val_loss: 0.0886 - val_acc: 0.9685\n",
            "Epoch 33/100\n",
            "96/96 [==============================] - 46s 475ms/step - loss: 0.0595 - acc: 0.9784 - val_loss: 0.0854 - val_acc: 0.9718\n",
            "Epoch 34/100\n",
            "96/96 [==============================] - 46s 473ms/step - loss: 0.0529 - acc: 0.9819 - val_loss: 0.0892 - val_acc: 0.9668\n",
            "\n",
            "Epoch 00034: ReduceLROnPlateau reducing learning rate to 1.0000000656873453e-06.\n",
            "Epoch 35/100\n",
            "96/96 [==============================] - 46s 476ms/step - loss: 0.0591 - acc: 0.9786 - val_loss: 0.0890 - val_acc: 0.9674\n",
            "Epoch 36/100\n",
            "96/96 [==============================] - 46s 477ms/step - loss: 0.0554 - acc: 0.9793 - val_loss: 0.0884 - val_acc: 0.9685\n",
            "Epoch 37/100\n",
            "96/96 [==============================] - 46s 477ms/step - loss: 0.0526 - acc: 0.9810 - val_loss: 0.0886 - val_acc: 0.9685\n",
            "Epoch 38/100\n",
            "96/96 [==============================] - 46s 476ms/step - loss: 0.0619 - acc: 0.9762 - val_loss: 0.0884 - val_acc: 0.9685\n",
            "Epoch 39/100\n",
            "96/96 [==============================] - 46s 477ms/step - loss: 0.0593 - acc: 0.9786 - val_loss: 0.0875 - val_acc: 0.9696\n",
            "\n",
            "Epoch 00039: ReduceLROnPlateau reducing learning rate to 1.0000001111620805e-07.\n",
            "Epoch 40/100\n",
            "96/96 [==============================] - 46s 477ms/step - loss: 0.0549 - acc: 0.9795 - val_loss: 0.0881 - val_acc: 0.9690\n",
            "Epoch 41/100\n",
            "96/96 [==============================] - 46s 474ms/step - loss: 0.0587 - acc: 0.9776 - val_loss: 0.0880 - val_acc: 0.9696\n",
            "Epoch 42/100\n",
            "96/96 [==============================] - 46s 477ms/step - loss: 0.0513 - acc: 0.9804 - val_loss: 0.0877 - val_acc: 0.9696\n",
            "Epoch 43/100\n",
            "96/96 [==============================] - 46s 475ms/step - loss: 0.0549 - acc: 0.9814 - val_loss: 0.0883 - val_acc: 0.9690\n",
            "Epoch 44/100\n",
            "96/96 [==============================] - 45s 471ms/step - loss: 0.0576 - acc: 0.9776 - val_loss: 0.0880 - val_acc: 0.9696\n",
            "\n",
            "Epoch 00044: ReduceLROnPlateau reducing learning rate to 1.000000082740371e-08.\n",
            "Epoch 45/100\n",
            "96/96 [==============================] - 45s 473ms/step - loss: 0.0572 - acc: 0.9799 - val_loss: 0.0879 - val_acc: 0.9696\n",
            "Epoch 46/100\n",
            "96/96 [==============================] - 45s 470ms/step - loss: 0.0597 - acc: 0.9780 - val_loss: 0.0876 - val_acc: 0.9696\n",
            "Epoch 47/100\n",
            "96/96 [==============================] - 45s 466ms/step - loss: 0.0567 - acc: 0.9786 - val_loss: 0.0887 - val_acc: 0.9685\n",
            "Epoch 48/100\n",
            "96/96 [==============================] - 45s 469ms/step - loss: 0.0592 - acc: 0.9788 - val_loss: 0.0877 - val_acc: 0.9696\n",
            "Epoch 49/100\n",
            "96/96 [==============================] - 45s 469ms/step - loss: 0.0578 - acc: 0.9765 - val_loss: 0.0882 - val_acc: 0.9685\n",
            "\n",
            "Epoch 00049: ReduceLROnPlateau reducing learning rate to 1.000000082740371e-09.\n",
            "Epoch 50/100\n",
            "96/96 [==============================] - 45s 470ms/step - loss: 0.0526 - acc: 0.9823 - val_loss: 0.0883 - val_acc: 0.9685\n",
            "Epoch 51/100\n",
            "96/96 [==============================] - 47s 492ms/step - loss: 0.0597 - acc: 0.9778 - val_loss: 0.0881 - val_acc: 0.9696\n",
            "Epoch 52/100\n",
            "96/96 [==============================] - 46s 476ms/step - loss: 0.0537 - acc: 0.9810 - val_loss: 0.0879 - val_acc: 0.9696\n",
            "Epoch 53/100\n",
            "96/96 [==============================] - 46s 476ms/step - loss: 0.0510 - acc: 0.9810 - val_loss: 0.0881 - val_acc: 0.9696\n",
            "Epoch 54/100\n",
            "96/96 [==============================] - 46s 481ms/step - loss: 0.0629 - acc: 0.9765 - val_loss: 0.0885 - val_acc: 0.9690\n",
            "\n",
            "Epoch 00054: ReduceLROnPlateau reducing learning rate to 1.000000082740371e-10.\n",
            "Epoch 55/100\n",
            "96/96 [==============================] - 49s 514ms/step - loss: 0.0613 - acc: 0.9773 - val_loss: 0.0881 - val_acc: 0.9696\n",
            "Epoch 56/100\n",
            "96/96 [==============================] - 46s 476ms/step - loss: 0.0634 - acc: 0.9780 - val_loss: 0.0879 - val_acc: 0.9696\n",
            "Epoch 57/100\n",
            "96/96 [==============================] - 46s 477ms/step - loss: 0.0546 - acc: 0.9789 - val_loss: 0.0880 - val_acc: 0.9696\n",
            "Epoch 58/100\n",
            "96/96 [==============================] - 46s 476ms/step - loss: 0.0611 - acc: 0.9782 - val_loss: 0.0878 - val_acc: 0.9696\n",
            "Epoch 59/100\n",
            "96/96 [==============================] - 46s 478ms/step - loss: 0.0645 - acc: 0.9771 - val_loss: 0.0885 - val_acc: 0.9685\n",
            "\n",
            "Epoch 00059: ReduceLROnPlateau reducing learning rate to 1.000000082740371e-11.\n",
            "Epoch 60/100\n",
            "96/96 [==============================] - 46s 479ms/step - loss: 0.0604 - acc: 0.9791 - val_loss: 0.0878 - val_acc: 0.9696\n",
            "Epoch 61/100\n",
            "96/96 [==============================] - 46s 479ms/step - loss: 0.0606 - acc: 0.9791 - val_loss: 0.0882 - val_acc: 0.9696\n",
            "Epoch 62/100\n",
            "96/96 [==============================] - 46s 482ms/step - loss: 0.0586 - acc: 0.9793 - val_loss: 0.0879 - val_acc: 0.9696\n",
            "Epoch 63/100\n",
            "96/96 [==============================] - 46s 483ms/step - loss: 0.0548 - acc: 0.9786 - val_loss: 0.0876 - val_acc: 0.9696\n",
            "Epoch 64/100\n",
            "96/96 [==============================] - 46s 482ms/step - loss: 0.0564 - acc: 0.9819 - val_loss: 0.0878 - val_acc: 0.9696\n",
            "\n",
            "Epoch 00064: ReduceLROnPlateau reducing learning rate to 1.000000082740371e-12.\n",
            "Epoch 65/100\n",
            "96/96 [==============================] - 46s 480ms/step - loss: 0.0576 - acc: 0.9789 - val_loss: 0.0883 - val_acc: 0.9685\n",
            "Epoch 66/100\n",
            "96/96 [==============================] - 46s 477ms/step - loss: 0.0528 - acc: 0.9821 - val_loss: 0.0878 - val_acc: 0.9696\n",
            "Epoch 67/100\n",
            "96/96 [==============================] - 46s 477ms/step - loss: 0.0584 - acc: 0.9786 - val_loss: 0.0886 - val_acc: 0.9685\n",
            "Epoch 68/100\n",
            "96/96 [==============================] - 46s 477ms/step - loss: 0.0608 - acc: 0.9780 - val_loss: 0.0884 - val_acc: 0.9690\n",
            "Epoch 69/100\n",
            "96/96 [==============================] - 46s 478ms/step - loss: 0.0581 - acc: 0.9789 - val_loss: 0.0876 - val_acc: 0.9696\n",
            "\n",
            "Epoch 00069: ReduceLROnPlateau reducing learning rate to 1.0000001044244145e-13.\n",
            "Epoch 70/100\n",
            "96/96 [==============================] - 46s 479ms/step - loss: 0.0555 - acc: 0.9801 - val_loss: 0.0877 - val_acc: 0.9696\n",
            "Epoch 71/100\n",
            "96/96 [==============================] - 46s 478ms/step - loss: 0.0637 - acc: 0.9773 - val_loss: 0.0882 - val_acc: 0.9701\n",
            "Epoch 72/100\n",
            "96/96 [==============================] - 46s 480ms/step - loss: 0.0584 - acc: 0.9776 - val_loss: 0.0890 - val_acc: 0.9690\n",
            "Epoch 73/100\n",
            "96/96 [==============================] - 46s 479ms/step - loss: 0.0603 - acc: 0.9775 - val_loss: 0.0887 - val_acc: 0.9685\n",
            "Epoch 74/100\n",
            "96/96 [==============================] - 46s 477ms/step - loss: 0.0552 - acc: 0.9814 - val_loss: 0.0883 - val_acc: 0.9685\n",
            "\n",
            "Epoch 00074: ReduceLROnPlateau reducing learning rate to 1.0000001179769417e-14.\n",
            "Epoch 75/100\n",
            "96/96 [==============================] - 46s 476ms/step - loss: 0.0567 - acc: 0.9795 - val_loss: 0.0885 - val_acc: 0.9685\n",
            "Epoch 76/100\n",
            "96/96 [==============================] - 46s 477ms/step - loss: 0.0572 - acc: 0.9793 - val_loss: 0.0877 - val_acc: 0.9696\n",
            "Epoch 77/100\n",
            "96/96 [==============================] - 46s 480ms/step - loss: 0.0618 - acc: 0.9778 - val_loss: 0.0882 - val_acc: 0.9696\n",
            "Epoch 78/100\n",
            "96/96 [==============================] - 46s 480ms/step - loss: 0.0488 - acc: 0.9816 - val_loss: 0.0887 - val_acc: 0.9685\n",
            "Epoch 79/100\n",
            "96/96 [==============================] - 46s 478ms/step - loss: 0.0609 - acc: 0.9771 - val_loss: 0.0881 - val_acc: 0.9696\n",
            "\n",
            "Epoch 00079: ReduceLROnPlateau reducing learning rate to 1.0000001518582595e-15.\n",
            "Epoch 80/100\n",
            "96/96 [==============================] - 46s 480ms/step - loss: 0.0634 - acc: 0.9773 - val_loss: 0.0884 - val_acc: 0.9679\n",
            "Epoch 81/100\n",
            "96/96 [==============================] - 46s 481ms/step - loss: 0.0560 - acc: 0.9784 - val_loss: 0.0896 - val_acc: 0.9668\n",
            "Epoch 82/100\n",
            "96/96 [==============================] - 46s 480ms/step - loss: 0.0537 - acc: 0.9795 - val_loss: 0.0889 - val_acc: 0.9685\n",
            "Epoch 83/100\n",
            "96/96 [==============================] - 49s 505ms/step - loss: 0.0554 - acc: 0.9793 - val_loss: 0.0885 - val_acc: 0.9690\n",
            "Epoch 84/100\n",
            "96/96 [==============================] - 46s 477ms/step - loss: 0.0661 - acc: 0.9750 - val_loss: 0.0883 - val_acc: 0.9685\n",
            "\n",
            "Epoch 00084: ReduceLROnPlateau reducing learning rate to 1.0000001095066122e-16.\n",
            "Epoch 85/100\n",
            "96/96 [==============================] - 46s 480ms/step - loss: 0.0555 - acc: 0.9782 - val_loss: 0.0882 - val_acc: 0.9685\n",
            "Epoch 86/100\n",
            "96/96 [==============================] - 46s 483ms/step - loss: 0.0540 - acc: 0.9806 - val_loss: 0.0884 - val_acc: 0.9685\n",
            "Epoch 87/100\n",
            "96/96 [==============================] - 46s 481ms/step - loss: 0.0582 - acc: 0.9793 - val_loss: 0.0875 - val_acc: 0.9696\n",
            "Epoch 88/100\n",
            "96/96 [==============================] - 46s 481ms/step - loss: 0.0588 - acc: 0.9791 - val_loss: 0.0882 - val_acc: 0.9690\n",
            "Epoch 89/100\n",
            "96/96 [==============================] - 47s 483ms/step - loss: 0.0576 - acc: 0.9786 - val_loss: 0.0883 - val_acc: 0.9685\n",
            "\n",
            "Epoch 00089: ReduceLROnPlateau reducing learning rate to 1.0000000830368326e-17.\n",
            "Epoch 90/100\n",
            "96/96 [==============================] - 46s 480ms/step - loss: 0.0592 - acc: 0.9782 - val_loss: 0.0893 - val_acc: 0.9674\n",
            "Epoch 91/100\n",
            "96/96 [==============================] - 46s 480ms/step - loss: 0.0567 - acc: 0.9801 - val_loss: 0.0883 - val_acc: 0.9685\n",
            "Epoch 92/100\n",
            "96/96 [==============================] - 46s 481ms/step - loss: 0.0574 - acc: 0.9784 - val_loss: 0.0880 - val_acc: 0.9696\n",
            "Epoch 93/100\n",
            "96/96 [==============================] - 47s 485ms/step - loss: 0.0578 - acc: 0.9788 - val_loss: 0.0889 - val_acc: 0.9690\n",
            "Epoch 94/100\n",
            "96/96 [==============================] - 46s 477ms/step - loss: 0.0539 - acc: 0.9801 - val_loss: 0.0882 - val_acc: 0.9696\n",
            "\n",
            "Epoch 00094: ReduceLROnPlateau reducing learning rate to 1.0000000664932204e-18.\n",
            "Epoch 95/100\n",
            "96/96 [==============================] - 48s 495ms/step - loss: 0.0560 - acc: 0.9791 - val_loss: 0.0879 - val_acc: 0.9696\n",
            "Epoch 96/100\n",
            "96/96 [==============================] - 46s 475ms/step - loss: 0.0612 - acc: 0.9767 - val_loss: 0.0879 - val_acc: 0.9696\n",
            "Epoch 97/100\n",
            "96/96 [==============================] - 46s 474ms/step - loss: 0.0677 - acc: 0.9767 - val_loss: 0.0883 - val_acc: 0.9690\n",
            "Epoch 98/100\n",
            "96/96 [==============================] - 45s 472ms/step - loss: 0.0524 - acc: 0.9814 - val_loss: 0.0888 - val_acc: 0.9690\n",
            "Epoch 99/100\n",
            "96/96 [==============================] - 45s 473ms/step - loss: 0.0591 - acc: 0.9773 - val_loss: 0.0886 - val_acc: 0.9685\n",
            "\n",
            "Epoch 00099: ReduceLROnPlateau reducing learning rate to 1.000000045813705e-19.\n",
            "Epoch 100/100\n",
            "96/96 [==============================] - 46s 474ms/step - loss: 0.0627 - acc: 0.9765 - val_loss: 0.0885 - val_acc: 0.9685\n"
          ]
        }
      ]
    },
    {
      "cell_type": "code",
      "metadata": {
        "id": "eXPNFWhp8n7j"
      },
      "source": [
        "model.save(\"/content/drive/MyDrive/best_model/transferlearning_weights.hdf5\")"
      ],
      "execution_count": 19,
      "outputs": []
    },
    {
      "cell_type": "code",
      "metadata": {
        "id": "G1iSV0cZmfik",
        "colab": {
          "base_uri": "https://localhost:8080/"
        },
        "outputId": "3c4f8c4b-0a16-4c0c-b7db-d435c059a6b8"
      },
      "source": [
        "history.history.keys()"
      ],
      "execution_count": 20,
      "outputs": [
        {
          "output_type": "execute_result",
          "data": {
            "text/plain": [
              "dict_keys(['loss', 'acc', 'val_loss', 'val_acc', 'lr'])"
            ]
          },
          "metadata": {},
          "execution_count": 20
        }
      ]
    },
    {
      "cell_type": "code",
      "metadata": {
        "id": "UvEpYHfym0qG",
        "colab": {
          "base_uri": "https://localhost:8080/",
          "height": 573
        },
        "outputId": "ebe9603e-ea00-4845-c12a-4fc750f411d2"
      },
      "source": [
        "plt.plot(history.history['acc'])\n",
        "plt.plot(history.history['val_acc'])\n",
        "plt.title('model accuracy')\n",
        "plt.ylabel('accuracy')\n",
        "plt.xlabel('epoch')\n",
        "plt.legend(['train', 'test'], loc='upper left')\n",
        "plt.show()\n",
        "# summarize history for loss\n",
        "plt.plot(history.history['loss'])\n",
        "plt.plot(history.history['val_loss'])\n",
        "plt.title('model loss')\n",
        "plt.ylabel('loss')\n",
        "plt.xlabel('epoch')\n",
        "plt.legend(['train', 'test'], loc='upper left')\n",
        "plt.show()"
      ],
      "execution_count": 21,
      "outputs": [
        {
          "output_type": "display_data",
          "data": {
            "image/png": "[encoded data removed]",
            "text/plain": [
              "<Figure size 432x288 with 1 Axes>"
            ]
          },
          "metadata": {
            "needs_background": "light"
          }
        },
        {
          "output_type": "display_data",
          "data": {
            "image/png": "[encoded data removed]",
            "text/plain": [
              "<Figure size 432x288 with 1 Axes>"
            ]
          },
          "metadata": {
            "needs_background": "light"
          }
        }
      ]
    },
    {
      "cell_type": "code",
      "metadata": {
        "id": "GYpKYkaem19d"
      },
      "source": [
        "from sklearn.metrics import confusion_matrix\n",
        "pred = model.predict(testX)\n",
        "pred = np.argmax(pred,axis = 1) \n",
        "y_true = np.argmax(testY,axis = 1)"
      ],
      "execution_count": 22,
      "outputs": []
    },
    {
      "cell_type": "code",
      "metadata": {
        "id": "A8iOgqEIm25N",
        "colab": {
          "base_uri": "https://localhost:8080/",
          "height": 387
        },
        "outputId": "5c5f3b55-404e-422e-b8ef-f1d9b2ef6acc"
      },
      "source": [
        "cm = confusion_matrix(y_true, pred)\n",
        "total = sum(sum(cm))\n",
        "acc = (cm[0, 0] + cm[1, 1]) / total\n",
        "sensitivity = cm[0, 0] / (cm[0, 0] + cm[0, 1])\n",
        "specificity = cm[1, 1] / (cm[1, 0] + cm[1, 1])\n",
        "\n",
        "print(\"Acurácia: {:.4f}\".format(acc))\n",
        "print(\"Sensitividade: {:.4f}\".format(sensitivity))\n",
        "print(\"Especificidade: {:.4f}\".format(specificity))\n",
        "\n",
        "from mlxtend.plotting import plot_confusion_matrix\n",
        "fig, ax = plot_confusion_matrix(conf_mat=cm ,  figsize=(5, 5))\n",
        "plt.show()"
      ],
      "execution_count": 23,
      "outputs": [
        {
          "output_type": "stream",
          "name": "stdout",
          "text": [
            "Acurácia: 0.9685\n",
            "Sensitividade: 0.9558\n",
            "Especificidade: 0.9812\n"
          ]
        },
        {
          "output_type": "display_data",
          "data": {
            "image/png": "[encoded data removed]",
            "text/plain": [
              "<Figure size 360x360 with 1 Axes>"
            ]
          },
          "metadata": {
            "needs_background": "light"
          }
        }
      ]
    }
  ]
}