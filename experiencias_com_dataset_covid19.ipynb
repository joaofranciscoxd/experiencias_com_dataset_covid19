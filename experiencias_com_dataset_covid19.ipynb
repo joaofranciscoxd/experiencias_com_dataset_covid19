{
  "nbformat": 4,
  "nbformat_minor": 0,
  "metadata": {
    "colab": {
      "name": "experiencias_com_dataset_covid19.ipynb",
      "provenance": []
    },
    "kernelspec": {
      "name": "python3",
      "display_name": "Python 3"
    },
    "language_info": {
      "name": "python"
    },
    "accelerator": "GPU"
  },
  "cells": [
    {
      "cell_type": "markdown",
      "metadata": {
        "id": "ggZLxqa1Mlvd"
      },
      "source": [
        "Este script foi baseado no canal youtube.com/c/canalsandeco\n",
        "\n",
        "youtube.com/watch?v=qDuVk4HPZ1g"
      ]
    },
    {
      "cell_type": "markdown",
      "metadata": {
        "id": "B1XRcmbwpa3X"
      },
      "source": [
        "Foram utilizados 1250 amostras de covid e 1250 de não-covid"
      ]
    },
    {
      "cell_type": "code",
      "metadata": {
        "id": "5s1fwIWNTxgh",
        "colab": {
          "base_uri": "https://localhost:8080/"
        },
        "outputId": "8199f45f-f70b-4d3b-fe6a-930ac060ead9"
      },
      "source": [
        "from google.colab import drive\n",
        "drive.mount('/content/drive')"
      ],
      "execution_count": 1,
      "outputs": [
        {
          "output_type": "stream",
          "name": "stdout",
          "text": [
            "Drive already mounted at /content/drive; to attempt to forcibly remount, call drive.mount(\"/content/drive\", force_remount=True).\n"
          ]
        }
      ]
    },
    {
      "cell_type": "code",
      "metadata": {
        "id": "fG0MZ7DSlNr3"
      },
      "source": [
        "from PIL import Image\n",
        "from os import listdir\n",
        "from os.path import isdir\n",
        "import numpy as np\n",
        "from sklearn.model_selection import train_test_split\n",
        "from sklearn.preprocessing import LabelBinarizer\n",
        "from tensorflow.keras.preprocessing.image import ImageDataGenerator\n",
        "from tensorflow.keras.applications import VGG19\n",
        "from tensorflow.keras.utils import to_categorical\n",
        "from tensorflow.keras import layers\n",
        "from tensorflow.keras import models\n",
        "from tensorflow.keras import optimizers\n",
        "\n",
        "import matplotlib.pyplot as plt\n",
        "%matplotlib inline\n",
        "from tqdm import tqdm"
      ],
      "execution_count": 2,
      "outputs": []
    },
    {
      "cell_type": "code",
      "metadata": {
        "id": "SBTyY7Udla3E"
      },
      "source": [
        "#Funções para seleção dos arquivos do dataset\n",
        "fator = 0.85 # anteriormente foi urilizado 0.5 para a redução de escala\n",
        "def select_image(filename):\n",
        "    # load image from file\n",
        "    image = Image.open(filename)\n",
        "    # convert to RGB, if needed\n",
        "    image = image.convert('RGB')\n",
        "    width, height = image.size\n",
        "    tamanho  = int(width*fator)\n",
        "    image = image.resize((tamanho,tamanho))\n",
        "    # convert to array\n",
        "    return np.asarray(image),tamanho\n",
        "\n",
        "def load_classes(diretorio, classe, imagens, labels):\n",
        "    # iterando arquivos\n",
        "    for filename in tqdm(listdir(diretorio)):\n",
        "        path = diretorio + filename\n",
        "        try:\n",
        "            array_image , tamanho = select_image(path)\n",
        "            imagens.append(array_image)\n",
        "            labels.append(classe)\n",
        "        except:\n",
        "            print(\"Erro ao ler imagem {}\".format(path))\n",
        "    return imagens, labels, tamanho\n",
        "\n",
        "def select_data_set(diretorio):\n",
        "    imagens = list()\n",
        "    labels = list()\n",
        "    for subdir in listdir(diretorio):\n",
        "        # path\n",
        "        path = diretorio + subdir + '/'\n",
        "        print(f\"Lendo amostras da pasta {subdir}\")       \n",
        "        if not isdir(path):\n",
        "            continue\n",
        "        imagens, labels,tamanho = load_classes(path, subdir, imagens, labels)\n",
        "\n",
        "    return imagens, labels,tamanho"
      ],
      "execution_count": 3,
      "outputs": []
    },
    {
      "cell_type": "code",
      "metadata": {
        "id": "x9TdoOG9lcoV",
        "colab": {
          "base_uri": "https://localhost:8080/"
        },
        "outputId": "a2fedb6f-eea9-4b67-c313-67ee00dcd848"
      },
      "source": [
        "#fonte:https://www.kaggle.com/tawsifurrahman/covid19-radiography-database\n",
        "covid_dataset = \"/content/drive/MyDrive/dataset/\"\n",
        "#indexando o dataset\n",
        "imagens, labels,tamanho  = select_data_set(covid_dataset)\n",
        "imagens = np.array(imagens) / 255.0  ## convertendo de lista para array\n",
        "labels = np.array(labels)  ## convertendo de lista para array"
      ],
      "execution_count": 4,
      "outputs": [
        {
          "output_type": "stream",
          "name": "stdout",
          "text": [
            "Lendo amostras da pasta covid-19\n"
          ]
        },
        {
          "output_type": "stream",
          "name": "stderr",
          "text": [
            "100%|██████████| 1250/1250 [00:07<00:00, 172.19it/s]\n"
          ]
        },
        {
          "output_type": "stream",
          "name": "stdout",
          "text": [
            "Lendo amostras da pasta not_covid-19\n"
          ]
        },
        {
          "output_type": "stream",
          "name": "stderr",
          "text": [
            "100%|██████████| 1250/1250 [00:07<00:00, 171.75it/s]\n"
          ]
        }
      ]
    },
    {
      "cell_type": "code",
      "metadata": {
        "id": "Wtmr6r9PkYAs",
        "colab": {
          "base_uri": "https://localhost:8080/"
        },
        "outputId": "4b130b36-b2c9-49f4-f453-2b50b1905814"
      },
      "source": [
        "imagens.shape"
      ],
      "execution_count": 5,
      "outputs": [
        {
          "output_type": "execute_result",
          "data": {
            "text/plain": [
              "(2500, 254, 254, 3)"
            ]
          },
          "metadata": {},
          "execution_count": 5
        }
      ]
    },
    {
      "cell_type": "code",
      "metadata": {
        "id": "QlgHPvCJkaUt",
        "colab": {
          "base_uri": "https://localhost:8080/"
        },
        "outputId": "5ac3c9cd-e572-4571-eba7-3417175756fa"
      },
      "source": [
        "labels.shape"
      ],
      "execution_count": 6,
      "outputs": [
        {
          "output_type": "execute_result",
          "data": {
            "text/plain": [
              "(2500,)"
            ]
          },
          "metadata": {},
          "execution_count": 6
        }
      ]
    },
    {
      "cell_type": "code",
      "metadata": {
        "id": "p8mihu_pSWxT",
        "colab": {
          "base_uri": "https://localhost:8080/"
        },
        "outputId": "393361ea-daeb-49dd-efcb-a9309c84881e"
      },
      "source": [
        "print(len(imagens))\n",
        "print(len(labels))"
      ],
      "execution_count": 7,
      "outputs": [
        {
          "output_type": "stream",
          "name": "stdout",
          "text": [
            "2500\n",
            "2500\n"
          ]
        }
      ]
    },
    {
      "cell_type": "code",
      "metadata": {
        "id": "5V8zqxU2y5rD",
        "colab": {
          "base_uri": "https://localhost:8080/"
        },
        "outputId": "2daf4bfe-b36e-4b97-c937-a4c6247d9dff"
      },
      "source": [
        "tamanho"
      ],
      "execution_count": 8,
      "outputs": [
        {
          "output_type": "execute_result",
          "data": {
            "text/plain": [
              "254"
            ]
          },
          "metadata": {},
          "execution_count": 8
        }
      ]
    },
    {
      "cell_type": "code",
      "metadata": {
        "id": "q-cSwYOBld8l"
      },
      "source": [
        "#normalizando as labels\n",
        "lb = LabelBinarizer()\n",
        "labels = lb.fit_transform(labels)\n",
        "labels = to_categorical(labels)"
      ],
      "execution_count": 9,
      "outputs": []
    },
    {
      "cell_type": "code",
      "metadata": {
        "id": "aJpEL4aEnuMX",
        "colab": {
          "base_uri": "https://localhost:8080/"
        },
        "outputId": "677bee37-4e2d-460a-fd45-870195d3baf5"
      },
      "source": [
        "imagens.shape"
      ],
      "execution_count": 10,
      "outputs": [
        {
          "output_type": "execute_result",
          "data": {
            "text/plain": [
              "(2500, 254, 254, 3)"
            ]
          },
          "metadata": {},
          "execution_count": 10
        }
      ]
    },
    {
      "cell_type": "code",
      "metadata": {
        "id": "fpVcusIdnt9f",
        "colab": {
          "base_uri": "https://localhost:8080/"
        },
        "outputId": "8821df53-78be-4baa-9582-5ace1d6cfbde"
      },
      "source": [
        "labels.shape"
      ],
      "execution_count": 11,
      "outputs": [
        {
          "output_type": "execute_result",
          "data": {
            "text/plain": [
              "(2500, 2)"
            ]
          },
          "metadata": {},
          "execution_count": 11
        }
      ]
    },
    {
      "cell_type": "code",
      "metadata": {
        "id": "c0AdE0W0llVd"
      },
      "source": [
        "#Variáveis estáticas\n",
        "batch_size   = 56#32\n",
        "input_shape  = (tamanho, tamanho, 3)\n",
        "#random_state = 42\n",
        "alpha        = 1e-5\n",
        "epoch        = 100"
      ],
      "execution_count": 12,
      "outputs": []
    },
    {
      "cell_type": "code",
      "metadata": {
        "id": "UNxnTBlelmdc"
      },
      "source": [
        "#tratamento para não ficar preso no mínimo local\n",
        "from tensorflow.keras.callbacks import ModelCheckpoint, ReduceLROnPlateau\n",
        "\n",
        "#filepath=\"/content/drive/MyDrive/best_model/transferlearning_weights.hdf5\"\n",
        "#checkpoint = ModelCheckpoint(filepath, monitor='val_acc', verbose=1, save_best_only=True, mode='max')\n",
        "lr_reduce = ReduceLROnPlateau(monitor='val_acc', factor=0.1, min_delta=alpha, patience=5, verbose=1)\n",
        "#callbacks = [checkpoint, lr_reduce]\n",
        "callbacks = [lr_reduce]\n"
      ],
      "execution_count": 13,
      "outputs": []
    },
    {
      "cell_type": "code",
      "metadata": {
        "id": "6_YOlYkZmGxg"
      },
      "source": [
        "#separação do dataset entre treino e teste\n",
        "(trainX, testX, trainY, testY) = train_test_split(imagens, labels, test_size=0.25, stratify=labels) #, random_state=random_state"
      ],
      "execution_count": 14,
      "outputs": []
    },
    {
      "cell_type": "code",
      "metadata": {
        "id": "vh2fi7yfmIqs"
      },
      "source": [
        "# #DATA AUGMENTATION\n",
        "# train_datagen = ImageDataGenerator(\n",
        "#         rotation_range=20,\n",
        "#         zoom_range=0.2)"
      ],
      "execution_count": 15,
      "outputs": []
    },
    {
      "cell_type": "code",
      "metadata": {
        "id": "cTQD6Wo-1xA4"
      },
      "source": [
        "# train_datagen.fit(trainX)"
      ],
      "execution_count": 16,
      "outputs": []
    },
    {
      "cell_type": "code",
      "metadata": {
        "id": "ksovjxp61w1q"
      },
      "source": [
        "# data_aug = train_datagen.flow(trainX, trainY, batch_size=batch_size)"
      ],
      "execution_count": 17,
      "outputs": []
    },
    {
      "cell_type": "code",
      "metadata": {
        "id": "VCh-04gumJvV",
        "colab": {
          "base_uri": "https://localhost:8080/"
        },
        "outputId": "ac6acaa4-dec0-4795-99eb-a5a69f9104cf"
      },
      "source": [
        "#chamando o vgg19\n",
        "conv_base = VGG19(weights='imagenet', include_top=False, input_shape=input_shape)\n",
        "conv_base.summary()"
      ],
      "execution_count": 18,
      "outputs": [
        {
          "output_type": "stream",
          "name": "stdout",
          "text": [
            "Model: \"vgg19\"\n",
            "_________________________________________________________________\n",
            "Layer (type)                 Output Shape              Param #   \n",
            "=================================================================\n",
            "input_1 (InputLayer)         [(None, 254, 254, 3)]     0         \n",
            "_________________________________________________________________\n",
            "block1_conv1 (Conv2D)        (None, 254, 254, 64)      1792      \n",
            "_________________________________________________________________\n",
            "block1_conv2 (Conv2D)        (None, 254, 254, 64)      36928     \n",
            "_________________________________________________________________\n",
            "block1_pool (MaxPooling2D)   (None, 127, 127, 64)      0         \n",
            "_________________________________________________________________\n",
            "block2_conv1 (Conv2D)        (None, 127, 127, 128)     73856     \n",
            "_________________________________________________________________\n",
            "block2_conv2 (Conv2D)        (None, 127, 127, 128)     147584    \n",
            "_________________________________________________________________\n",
            "block2_pool (MaxPooling2D)   (None, 63, 63, 128)       0         \n",
            "_________________________________________________________________\n",
            "block3_conv1 (Conv2D)        (None, 63, 63, 256)       295168    \n",
            "_________________________________________________________________\n",
            "block3_conv2 (Conv2D)        (None, 63, 63, 256)       590080    \n",
            "_________________________________________________________________\n",
            "block3_conv3 (Conv2D)        (None, 63, 63, 256)       590080    \n",
            "_________________________________________________________________\n",
            "block3_conv4 (Conv2D)        (None, 63, 63, 256)       590080    \n",
            "_________________________________________________________________\n",
            "block3_pool (MaxPooling2D)   (None, 31, 31, 256)       0         \n",
            "_________________________________________________________________\n",
            "block4_conv1 (Conv2D)        (None, 31, 31, 512)       1180160   \n",
            "_________________________________________________________________\n",
            "block4_conv2 (Conv2D)        (None, 31, 31, 512)       2359808   \n",
            "_________________________________________________________________\n",
            "block4_conv3 (Conv2D)        (None, 31, 31, 512)       2359808   \n",
            "_________________________________________________________________\n",
            "block4_conv4 (Conv2D)        (None, 31, 31, 512)       2359808   \n",
            "_________________________________________________________________\n",
            "block4_pool (MaxPooling2D)   (None, 15, 15, 512)       0         \n",
            "_________________________________________________________________\n",
            "block5_conv1 (Conv2D)        (None, 15, 15, 512)       2359808   \n",
            "_________________________________________________________________\n",
            "block5_conv2 (Conv2D)        (None, 15, 15, 512)       2359808   \n",
            "_________________________________________________________________\n",
            "block5_conv3 (Conv2D)        (None, 15, 15, 512)       2359808   \n",
            "_________________________________________________________________\n",
            "block5_conv4 (Conv2D)        (None, 15, 15, 512)       2359808   \n",
            "_________________________________________________________________\n",
            "block5_pool (MaxPooling2D)   (None, 7, 7, 512)         0         \n",
            "=================================================================\n",
            "Total params: 20,024,384\n",
            "Trainable params: 20,024,384\n",
            "Non-trainable params: 0\n",
            "_________________________________________________________________\n"
          ]
        }
      ]
    },
    {
      "cell_type": "code",
      "metadata": {
        "id": "gNXfC4iRmNve",
        "colab": {
          "base_uri": "https://localhost:8080/"
        },
        "outputId": "19152f39-bdc8-4461-fc70-11ebe5ac64af"
      },
      "source": [
        "#Retreinando a vgg19 a partir da camada ....\n",
        "camada = 'block5_conv3'\n",
        "conv_base.trainable = True\n",
        "set_trainable = False\n",
        "\n",
        "for layer in conv_base.layers:\n",
        "  if layer.name == camada:\n",
        "    set_trainable = True\n",
        "  if set_trainable:\n",
        "    layer.trainable = True\n",
        "  else:\n",
        "    layer.trainable = False\n",
        "\n",
        "conv_base.summary()"
      ],
      "execution_count": 19,
      "outputs": [
        {
          "output_type": "stream",
          "name": "stdout",
          "text": [
            "Model: \"vgg19\"\n",
            "_________________________________________________________________\n",
            "Layer (type)                 Output Shape              Param #   \n",
            "=================================================================\n",
            "input_1 (InputLayer)         [(None, 254, 254, 3)]     0         \n",
            "_________________________________________________________________\n",
            "block1_conv1 (Conv2D)        (None, 254, 254, 64)      1792      \n",
            "_________________________________________________________________\n",
            "block1_conv2 (Conv2D)        (None, 254, 254, 64)      36928     \n",
            "_________________________________________________________________\n",
            "block1_pool (MaxPooling2D)   (None, 127, 127, 64)      0         \n",
            "_________________________________________________________________\n",
            "block2_conv1 (Conv2D)        (None, 127, 127, 128)     73856     \n",
            "_________________________________________________________________\n",
            "block2_conv2 (Conv2D)        (None, 127, 127, 128)     147584    \n",
            "_________________________________________________________________\n",
            "block2_pool (MaxPooling2D)   (None, 63, 63, 128)       0         \n",
            "_________________________________________________________________\n",
            "block3_conv1 (Conv2D)        (None, 63, 63, 256)       295168    \n",
            "_________________________________________________________________\n",
            "block3_conv2 (Conv2D)        (None, 63, 63, 256)       590080    \n",
            "_________________________________________________________________\n",
            "block3_conv3 (Conv2D)        (None, 63, 63, 256)       590080    \n",
            "_________________________________________________________________\n",
            "block3_conv4 (Conv2D)        (None, 63, 63, 256)       590080    \n",
            "_________________________________________________________________\n",
            "block3_pool (MaxPooling2D)   (None, 31, 31, 256)       0         \n",
            "_________________________________________________________________\n",
            "block4_conv1 (Conv2D)        (None, 31, 31, 512)       1180160   \n",
            "_________________________________________________________________\n",
            "block4_conv2 (Conv2D)        (None, 31, 31, 512)       2359808   \n",
            "_________________________________________________________________\n",
            "block4_conv3 (Conv2D)        (None, 31, 31, 512)       2359808   \n",
            "_________________________________________________________________\n",
            "block4_conv4 (Conv2D)        (None, 31, 31, 512)       2359808   \n",
            "_________________________________________________________________\n",
            "block4_pool (MaxPooling2D)   (None, 15, 15, 512)       0         \n",
            "_________________________________________________________________\n",
            "block5_conv1 (Conv2D)        (None, 15, 15, 512)       2359808   \n",
            "_________________________________________________________________\n",
            "block5_conv2 (Conv2D)        (None, 15, 15, 512)       2359808   \n",
            "_________________________________________________________________\n",
            "block5_conv3 (Conv2D)        (None, 15, 15, 512)       2359808   \n",
            "_________________________________________________________________\n",
            "block5_conv4 (Conv2D)        (None, 15, 15, 512)       2359808   \n",
            "_________________________________________________________________\n",
            "block5_pool (MaxPooling2D)   (None, 7, 7, 512)         0         \n",
            "=================================================================\n",
            "Total params: 20,024,384\n",
            "Trainable params: 4,719,616\n",
            "Non-trainable params: 15,304,768\n",
            "_________________________________________________________________\n"
          ]
        }
      ]
    },
    {
      "cell_type": "code",
      "metadata": {
        "id": "Dzv9OFtrmPpB",
        "colab": {
          "base_uri": "https://localhost:8080/"
        },
        "outputId": "022242fa-65d2-46bb-c3fa-8485d97d26f0"
      },
      "source": [
        "#configurando o modelo\n",
        "model = models.Sequential()\n",
        "model.add(conv_base)\n",
        "model.add(layers.GlobalAveragePooling2D())\n",
        "model.add(layers.BatchNormalization())\n",
        "model.add(layers.Flatten())\n",
        "model.add(layers.Dense(128, activation='relu'))\n",
        "model.add(layers.Dropout(0.6))\n",
        "model.add(layers.Dense(2, activation='softmax'))\n",
        "model.summary()"
      ],
      "execution_count": 20,
      "outputs": [
        {
          "output_type": "stream",
          "name": "stdout",
          "text": [
            "Model: \"sequential\"\n",
            "_________________________________________________________________\n",
            "Layer (type)                 Output Shape              Param #   \n",
            "=================================================================\n",
            "vgg19 (Functional)           (None, 7, 7, 512)         20024384  \n",
            "_________________________________________________________________\n",
            "global_average_pooling2d (Gl (None, 512)               0         \n",
            "_________________________________________________________________\n",
            "batch_normalization (BatchNo (None, 512)               2048      \n",
            "_________________________________________________________________\n",
            "flatten (Flatten)            (None, 512)               0         \n",
            "_________________________________________________________________\n",
            "dense (Dense)                (None, 128)               65664     \n",
            "_________________________________________________________________\n",
            "dropout (Dropout)            (None, 128)               0         \n",
            "_________________________________________________________________\n",
            "dense_1 (Dense)              (None, 2)                 258       \n",
            "=================================================================\n",
            "Total params: 20,092,354\n",
            "Trainable params: 4,786,562\n",
            "Non-trainable params: 15,305,792\n",
            "_________________________________________________________________\n"
          ]
        }
      ]
    },
    {
      "cell_type": "code",
      "metadata": {
        "id": "izC5F_NqmRF1"
      },
      "source": [
        "model.compile(loss='binary_crossentropy',\n",
        "                  optimizer='adam',\n",
        "                  metrics=['acc'])"
      ],
      "execution_count": 21,
      "outputs": []
    },
    {
      "cell_type": "code",
      "metadata": {
        "id": "NYrU2ce29T9K",
        "colab": {
          "base_uri": "https://localhost:8080/"
        },
        "outputId": "14c53152-4e9d-4eb1-8d86-970dd5f90c0c"
      },
      "source": [
        "#history = model.fit(data_aug,\n",
        "history = model.fit(x=trainX,y=trainY,\n",
        "                              steps_per_epoch=len(trainX)// batch_size, # parte inteira da divisão\n",
        "                              validation_data=(testX, testY),\n",
        "                              validation_steps=len(testX) // batch_size,# parte inteira da divisão\n",
        "                              callbacks=callbacks,\n",
        "                              epochs=epoch)"
      ],
      "execution_count": 22,
      "outputs": [
        {
          "output_type": "stream",
          "name": "stdout",
          "text": [
            "Epoch 1/100\n",
            "33/33 [==============================] - 118s 2s/step - loss: 0.1361 - acc: 0.9435 - val_loss: 1.1829 - val_acc: 0.7232\n",
            "Epoch 2/100\n",
            "33/33 [==============================] - 32s 968ms/step - loss: 0.0580 - acc: 0.9803 - val_loss: 0.3086 - val_acc: 0.9312\n",
            "Epoch 3/100\n",
            "33/33 [==============================] - 32s 968ms/step - loss: 0.0537 - acc: 0.9787 - val_loss: 0.1542 - val_acc: 0.9680\n",
            "Epoch 4/100\n",
            "33/33 [==============================] - 32s 969ms/step - loss: 0.0361 - acc: 0.9872 - val_loss: 0.4367 - val_acc: 0.9040\n",
            "Epoch 5/100\n",
            "33/33 [==============================] - 32s 969ms/step - loss: 0.0298 - acc: 0.9904 - val_loss: 0.2050 - val_acc: 0.9632\n",
            "Epoch 6/100\n",
            "33/33 [==============================] - 32s 967ms/step - loss: 0.0408 - acc: 0.9861 - val_loss: 0.4424 - val_acc: 0.9072\n",
            "Epoch 7/100\n",
            "33/33 [==============================] - 32s 966ms/step - loss: 0.0238 - acc: 0.9925 - val_loss: 0.1374 - val_acc: 0.9744\n",
            "Epoch 8/100\n",
            "33/33 [==============================] - 32s 966ms/step - loss: 0.0131 - acc: 0.9957 - val_loss: 0.1115 - val_acc: 0.9792\n",
            "Epoch 9/100\n",
            "33/33 [==============================] - 32s 970ms/step - loss: 0.0090 - acc: 0.9979 - val_loss: 0.1484 - val_acc: 0.9728\n",
            "Epoch 10/100\n",
            "33/33 [==============================] - 32s 968ms/step - loss: 0.0103 - acc: 0.9968 - val_loss: 0.1248 - val_acc: 0.9776\n",
            "Epoch 11/100\n",
            "33/33 [==============================] - 32s 967ms/step - loss: 0.0148 - acc: 0.9941 - val_loss: 0.1518 - val_acc: 0.9776\n",
            "Epoch 12/100\n",
            "33/33 [==============================] - 32s 967ms/step - loss: 0.0135 - acc: 0.9952 - val_loss: 0.1881 - val_acc: 0.9680\n",
            "Epoch 13/100\n",
            "33/33 [==============================] - 32s 967ms/step - loss: 0.0074 - acc: 0.9968 - val_loss: 0.5129 - val_acc: 0.9376\n",
            "\n",
            "Epoch 00013: ReduceLROnPlateau reducing learning rate to 0.00010000000474974513.\n",
            "Epoch 14/100\n",
            "33/33 [==============================] - 32s 968ms/step - loss: 0.0059 - acc: 0.9968 - val_loss: 0.3052 - val_acc: 0.9552\n",
            "Epoch 15/100\n",
            "33/33 [==============================] - 32s 965ms/step - loss: 0.0044 - acc: 0.9989 - val_loss: 0.2198 - val_acc: 0.9712\n",
            "Epoch 16/100\n",
            "33/33 [==============================] - 32s 967ms/step - loss: 0.0049 - acc: 0.9979 - val_loss: 0.1829 - val_acc: 0.9744\n",
            "Epoch 17/100\n",
            "33/33 [==============================] - 32s 968ms/step - loss: 0.0024 - acc: 0.9995 - val_loss: 0.1762 - val_acc: 0.9808\n",
            "Epoch 18/100\n",
            "33/33 [==============================] - 32s 967ms/step - loss: 0.0017 - acc: 1.0000 - val_loss: 0.1792 - val_acc: 0.9792\n",
            "Epoch 19/100\n",
            "33/33 [==============================] - 32s 968ms/step - loss: 9.4923e-04 - acc: 1.0000 - val_loss: 0.1804 - val_acc: 0.9776\n",
            "Epoch 20/100\n",
            "33/33 [==============================] - 32s 967ms/step - loss: 0.0011 - acc: 1.0000 - val_loss: 0.1809 - val_acc: 0.9776\n",
            "Epoch 21/100\n",
            "33/33 [==============================] - 32s 968ms/step - loss: 0.0010 - acc: 1.0000 - val_loss: 0.1818 - val_acc: 0.9776\n",
            "Epoch 22/100\n",
            "33/33 [==============================] - 32s 967ms/step - loss: 0.0017 - acc: 1.0000 - val_loss: 0.1819 - val_acc: 0.9776\n",
            "\n",
            "Epoch 00022: ReduceLROnPlateau reducing learning rate to 1.0000000474974514e-05.\n",
            "Epoch 23/100\n",
            "33/33 [==============================] - 32s 968ms/step - loss: 0.0016 - acc: 0.9995 - val_loss: 0.1820 - val_acc: 0.9776\n",
            "Epoch 24/100\n",
            "33/33 [==============================] - 32s 966ms/step - loss: 0.0012 - acc: 1.0000 - val_loss: 0.1819 - val_acc: 0.9776\n",
            "Epoch 25/100\n",
            "33/33 [==============================] - 32s 968ms/step - loss: 0.0011 - acc: 1.0000 - val_loss: 0.1820 - val_acc: 0.9776\n",
            "Epoch 26/100\n",
            "33/33 [==============================] - 32s 965ms/step - loss: 0.0014 - acc: 1.0000 - val_loss: 0.1824 - val_acc: 0.9776\n",
            "Epoch 27/100\n",
            "33/33 [==============================] - 32s 966ms/step - loss: 7.6173e-04 - acc: 1.0000 - val_loss: 0.1825 - val_acc: 0.9776\n",
            "\n",
            "Epoch 00027: ReduceLROnPlateau reducing learning rate to 1.0000000656873453e-06.\n",
            "Epoch 28/100\n",
            "33/33 [==============================] - 32s 967ms/step - loss: 0.0012 - acc: 1.0000 - val_loss: 0.1825 - val_acc: 0.9776\n",
            "Epoch 29/100\n",
            "33/33 [==============================] - 32s 966ms/step - loss: 9.2125e-04 - acc: 1.0000 - val_loss: 0.1825 - val_acc: 0.9776\n",
            "Epoch 30/100\n",
            "33/33 [==============================] - 32s 965ms/step - loss: 9.8712e-04 - acc: 0.9995 - val_loss: 0.1824 - val_acc: 0.9776\n",
            "Epoch 31/100\n",
            "33/33 [==============================] - 32s 966ms/step - loss: 0.0016 - acc: 1.0000 - val_loss: 0.1824 - val_acc: 0.9776\n",
            "Epoch 32/100\n",
            "33/33 [==============================] - 32s 966ms/step - loss: 0.0013 - acc: 1.0000 - val_loss: 0.1825 - val_acc: 0.9776\n",
            "\n",
            "Epoch 00032: ReduceLROnPlateau reducing learning rate to 1.0000001111620805e-07.\n",
            "Epoch 33/100\n",
            "33/33 [==============================] - 32s 968ms/step - loss: 9.2845e-04 - acc: 1.0000 - val_loss: 0.1825 - val_acc: 0.9776\n",
            "Epoch 34/100\n",
            "33/33 [==============================] - 32s 967ms/step - loss: 0.0015 - acc: 1.0000 - val_loss: 0.1824 - val_acc: 0.9776\n",
            "Epoch 35/100\n",
            "33/33 [==============================] - 32s 965ms/step - loss: 7.8357e-04 - acc: 1.0000 - val_loss: 0.1824 - val_acc: 0.9776\n",
            "Epoch 36/100\n",
            "33/33 [==============================] - 32s 965ms/step - loss: 0.0023 - acc: 0.9989 - val_loss: 0.1828 - val_acc: 0.9776\n",
            "Epoch 37/100\n",
            "33/33 [==============================] - 32s 967ms/step - loss: 0.0025 - acc: 0.9989 - val_loss: 0.1826 - val_acc: 0.9776\n",
            "\n",
            "Epoch 00037: ReduceLROnPlateau reducing learning rate to 1.000000082740371e-08.\n",
            "Epoch 38/100\n",
            "33/33 [==============================] - 32s 968ms/step - loss: 0.0013 - acc: 1.0000 - val_loss: 0.1828 - val_acc: 0.9776\n",
            "Epoch 39/100\n",
            "33/33 [==============================] - 32s 967ms/step - loss: 0.0030 - acc: 0.9995 - val_loss: 0.1830 - val_acc: 0.9776\n",
            "Epoch 40/100\n",
            "33/33 [==============================] - 32s 968ms/step - loss: 0.0022 - acc: 0.9995 - val_loss: 0.1830 - val_acc: 0.9776\n",
            "Epoch 41/100\n",
            "33/33 [==============================] - 32s 969ms/step - loss: 0.0017 - acc: 1.0000 - val_loss: 0.1829 - val_acc: 0.9776\n",
            "Epoch 42/100\n",
            "33/33 [==============================] - 32s 967ms/step - loss: 0.0010 - acc: 1.0000 - val_loss: 0.1828 - val_acc: 0.9776\n",
            "\n",
            "Epoch 00042: ReduceLROnPlateau reducing learning rate to 1.000000082740371e-09.\n",
            "Epoch 43/100\n",
            "33/33 [==============================] - 32s 968ms/step - loss: 0.0026 - acc: 0.9989 - val_loss: 0.1827 - val_acc: 0.9776\n",
            "Epoch 44/100\n",
            "33/33 [==============================] - 32s 968ms/step - loss: 0.0012 - acc: 1.0000 - val_loss: 0.1826 - val_acc: 0.9776\n",
            "Epoch 45/100\n",
            "33/33 [==============================] - 32s 966ms/step - loss: 0.0015 - acc: 1.0000 - val_loss: 0.1830 - val_acc: 0.9776\n",
            "Epoch 46/100\n",
            "33/33 [==============================] - 32s 968ms/step - loss: 0.0014 - acc: 1.0000 - val_loss: 0.1829 - val_acc: 0.9776\n",
            "Epoch 47/100\n",
            "33/33 [==============================] - 32s 969ms/step - loss: 0.0012 - acc: 0.9995 - val_loss: 0.1828 - val_acc: 0.9776\n",
            "\n",
            "Epoch 00047: ReduceLROnPlateau reducing learning rate to 1.000000082740371e-10.\n",
            "Epoch 48/100\n",
            "33/33 [==============================] - 32s 968ms/step - loss: 0.0014 - acc: 1.0000 - val_loss: 0.1830 - val_acc: 0.9776\n",
            "Epoch 49/100\n",
            "33/33 [==============================] - 32s 969ms/step - loss: 0.0016 - acc: 1.0000 - val_loss: 0.1828 - val_acc: 0.9776\n",
            "Epoch 50/100\n",
            "33/33 [==============================] - 32s 967ms/step - loss: 0.0021 - acc: 0.9995 - val_loss: 0.1827 - val_acc: 0.9776\n",
            "Epoch 51/100\n",
            "33/33 [==============================] - 32s 966ms/step - loss: 8.8767e-04 - acc: 1.0000 - val_loss: 0.1827 - val_acc: 0.9776\n",
            "Epoch 52/100\n",
            "33/33 [==============================] - 32s 968ms/step - loss: 0.0015 - acc: 1.0000 - val_loss: 0.1825 - val_acc: 0.9776\n",
            "\n",
            "Epoch 00052: ReduceLROnPlateau reducing learning rate to 1.000000082740371e-11.\n",
            "Epoch 53/100\n",
            "33/33 [==============================] - 32s 968ms/step - loss: 0.0018 - acc: 1.0000 - val_loss: 0.1827 - val_acc: 0.9776\n",
            "Epoch 54/100\n",
            "33/33 [==============================] - 32s 967ms/step - loss: 7.1567e-04 - acc: 1.0000 - val_loss: 0.1827 - val_acc: 0.9776\n",
            "Epoch 55/100\n",
            "33/33 [==============================] - 32s 969ms/step - loss: 0.0011 - acc: 1.0000 - val_loss: 0.1827 - val_acc: 0.9776\n",
            "Epoch 56/100\n",
            "33/33 [==============================] - 32s 970ms/step - loss: 0.0018 - acc: 1.0000 - val_loss: 0.1828 - val_acc: 0.9776\n",
            "Epoch 57/100\n",
            "33/33 [==============================] - 32s 966ms/step - loss: 0.0013 - acc: 1.0000 - val_loss: 0.1825 - val_acc: 0.9776\n",
            "\n",
            "Epoch 00057: ReduceLROnPlateau reducing learning rate to 1.000000082740371e-12.\n",
            "Epoch 58/100\n",
            "33/33 [==============================] - 32s 968ms/step - loss: 0.0013 - acc: 1.0000 - val_loss: 0.1823 - val_acc: 0.9776\n",
            "Epoch 59/100\n",
            "33/33 [==============================] - 32s 968ms/step - loss: 7.9082e-04 - acc: 1.0000 - val_loss: 0.1823 - val_acc: 0.9776\n",
            "Epoch 60/100\n",
            "33/33 [==============================] - 32s 969ms/step - loss: 8.9822e-04 - acc: 1.0000 - val_loss: 0.1826 - val_acc: 0.9776\n",
            "Epoch 61/100\n",
            "33/33 [==============================] - 32s 968ms/step - loss: 7.2502e-04 - acc: 1.0000 - val_loss: 0.1824 - val_acc: 0.9776\n",
            "Epoch 62/100\n",
            "33/33 [==============================] - 32s 969ms/step - loss: 7.3068e-04 - acc: 1.0000 - val_loss: 0.1824 - val_acc: 0.9776\n",
            "\n",
            "Epoch 00062: ReduceLROnPlateau reducing learning rate to 1.0000001044244145e-13.\n",
            "Epoch 63/100\n",
            "33/33 [==============================] - 32s 967ms/step - loss: 0.0010 - acc: 1.0000 - val_loss: 0.1824 - val_acc: 0.9776\n",
            "Epoch 64/100\n",
            "33/33 [==============================] - 32s 968ms/step - loss: 0.0017 - acc: 0.9995 - val_loss: 0.1826 - val_acc: 0.9776\n",
            "Epoch 65/100\n",
            "33/33 [==============================] - 32s 967ms/step - loss: 5.8322e-04 - acc: 1.0000 - val_loss: 0.1826 - val_acc: 0.9776\n",
            "Epoch 66/100\n",
            "33/33 [==============================] - 32s 968ms/step - loss: 0.0014 - acc: 1.0000 - val_loss: 0.1826 - val_acc: 0.9776\n",
            "Epoch 67/100\n",
            "33/33 [==============================] - 32s 969ms/step - loss: 8.9535e-04 - acc: 1.0000 - val_loss: 0.1826 - val_acc: 0.9776\n",
            "\n",
            "Epoch 00067: ReduceLROnPlateau reducing learning rate to 1.0000001179769417e-14.\n",
            "Epoch 68/100\n",
            "33/33 [==============================] - 32s 969ms/step - loss: 8.4073e-04 - acc: 1.0000 - val_loss: 0.1824 - val_acc: 0.9776\n",
            "Epoch 69/100\n",
            "33/33 [==============================] - 32s 969ms/step - loss: 6.8276e-04 - acc: 1.0000 - val_loss: 0.1824 - val_acc: 0.9776\n",
            "Epoch 70/100\n",
            "33/33 [==============================] - 32s 968ms/step - loss: 0.0012 - acc: 1.0000 - val_loss: 0.1825 - val_acc: 0.9776\n",
            "Epoch 71/100\n",
            "33/33 [==============================] - 32s 970ms/step - loss: 9.7795e-04 - acc: 1.0000 - val_loss: 0.1827 - val_acc: 0.9776\n",
            "Epoch 72/100\n",
            "33/33 [==============================] - 32s 968ms/step - loss: 0.0024 - acc: 0.9989 - val_loss: 0.1828 - val_acc: 0.9776\n",
            "\n",
            "Epoch 00072: ReduceLROnPlateau reducing learning rate to 1.0000001518582595e-15.\n",
            "Epoch 73/100\n",
            "33/33 [==============================] - 32s 967ms/step - loss: 0.0015 - acc: 1.0000 - val_loss: 0.1827 - val_acc: 0.9776\n",
            "Epoch 74/100\n",
            "33/33 [==============================] - 32s 968ms/step - loss: 0.0018 - acc: 0.9995 - val_loss: 0.1827 - val_acc: 0.9776\n",
            "Epoch 75/100\n",
            "33/33 [==============================] - 32s 967ms/step - loss: 7.8301e-04 - acc: 1.0000 - val_loss: 0.1824 - val_acc: 0.9776\n",
            "Epoch 76/100\n",
            "33/33 [==============================] - 32s 969ms/step - loss: 0.0032 - acc: 0.9995 - val_loss: 0.1826 - val_acc: 0.9776\n",
            "Epoch 77/100\n",
            "33/33 [==============================] - 32s 968ms/step - loss: 7.2197e-04 - acc: 1.0000 - val_loss: 0.1824 - val_acc: 0.9776\n",
            "\n",
            "Epoch 00077: ReduceLROnPlateau reducing learning rate to 1.0000001095066122e-16.\n",
            "Epoch 78/100\n",
            "33/33 [==============================] - 32s 968ms/step - loss: 5.6352e-04 - acc: 1.0000 - val_loss: 0.1825 - val_acc: 0.9776\n",
            "Epoch 79/100\n",
            "33/33 [==============================] - 32s 968ms/step - loss: 0.0016 - acc: 0.9995 - val_loss: 0.1828 - val_acc: 0.9776\n",
            "Epoch 80/100\n",
            "33/33 [==============================] - 32s 968ms/step - loss: 0.0014 - acc: 0.9995 - val_loss: 0.1826 - val_acc: 0.9776\n",
            "Epoch 81/100\n",
            "33/33 [==============================] - 32s 966ms/step - loss: 0.0014 - acc: 1.0000 - val_loss: 0.1825 - val_acc: 0.9776\n",
            "Epoch 82/100\n",
            "33/33 [==============================] - 32s 968ms/step - loss: 5.7258e-04 - acc: 1.0000 - val_loss: 0.1824 - val_acc: 0.9776\n",
            "\n",
            "Epoch 00082: ReduceLROnPlateau reducing learning rate to 1.0000000830368326e-17.\n",
            "Epoch 83/100\n",
            "33/33 [==============================] - 32s 970ms/step - loss: 0.0014 - acc: 0.9995 - val_loss: 0.1826 - val_acc: 0.9776\n",
            "Epoch 84/100\n",
            "33/33 [==============================] - 32s 968ms/step - loss: 0.0020 - acc: 0.9995 - val_loss: 0.1828 - val_acc: 0.9776\n",
            "Epoch 85/100\n",
            "33/33 [==============================] - 32s 967ms/step - loss: 8.2113e-04 - acc: 1.0000 - val_loss: 0.1826 - val_acc: 0.9776\n",
            "Epoch 86/100\n",
            "33/33 [==============================] - 32s 966ms/step - loss: 0.0021 - acc: 0.9995 - val_loss: 0.1826 - val_acc: 0.9776\n",
            "Epoch 87/100\n",
            "33/33 [==============================] - 32s 968ms/step - loss: 8.0929e-04 - acc: 1.0000 - val_loss: 0.1825 - val_acc: 0.9776\n",
            "\n",
            "Epoch 00087: ReduceLROnPlateau reducing learning rate to 1.0000000664932204e-18.\n",
            "Epoch 88/100\n",
            "33/33 [==============================] - 32s 969ms/step - loss: 0.0016 - acc: 0.9995 - val_loss: 0.1826 - val_acc: 0.9776\n",
            "Epoch 89/100\n",
            "33/33 [==============================] - 32s 969ms/step - loss: 9.0133e-04 - acc: 1.0000 - val_loss: 0.1825 - val_acc: 0.9776\n",
            "Epoch 90/100\n",
            "33/33 [==============================] - 32s 968ms/step - loss: 0.0026 - acc: 0.9995 - val_loss: 0.1826 - val_acc: 0.9776\n",
            "Epoch 91/100\n",
            "33/33 [==============================] - 32s 969ms/step - loss: 6.4712e-04 - acc: 1.0000 - val_loss: 0.1827 - val_acc: 0.9776\n",
            "Epoch 92/100\n",
            "33/33 [==============================] - 32s 966ms/step - loss: 0.0019 - acc: 0.9995 - val_loss: 0.1826 - val_acc: 0.9776\n",
            "\n",
            "Epoch 00092: ReduceLROnPlateau reducing learning rate to 1.000000045813705e-19.\n",
            "Epoch 93/100\n",
            "33/33 [==============================] - 32s 969ms/step - loss: 9.9776e-04 - acc: 1.0000 - val_loss: 0.1825 - val_acc: 0.9776\n",
            "Epoch 94/100\n",
            "33/33 [==============================] - 32s 966ms/step - loss: 7.2190e-04 - acc: 1.0000 - val_loss: 0.1824 - val_acc: 0.9776\n",
            "Epoch 95/100\n",
            "33/33 [==============================] - 32s 970ms/step - loss: 5.6856e-04 - acc: 1.0000 - val_loss: 0.1822 - val_acc: 0.9776\n",
            "Epoch 96/100\n",
            "33/33 [==============================] - 32s 968ms/step - loss: 0.0022 - acc: 0.9995 - val_loss: 0.1823 - val_acc: 0.9776\n",
            "Epoch 97/100\n",
            "33/33 [==============================] - 32s 968ms/step - loss: 0.0014 - acc: 1.0000 - val_loss: 0.1827 - val_acc: 0.9776\n",
            "\n",
            "Epoch 00097: ReduceLROnPlateau reducing learning rate to 1.000000032889008e-20.\n",
            "Epoch 98/100\n",
            "33/33 [==============================] - 32s 968ms/step - loss: 0.0025 - acc: 0.9989 - val_loss: 0.1828 - val_acc: 0.9776\n",
            "Epoch 99/100\n",
            "33/33 [==============================] - 32s 969ms/step - loss: 0.0027 - acc: 0.9989 - val_loss: 0.1831 - val_acc: 0.9776\n",
            "Epoch 100/100\n",
            "33/33 [==============================] - 32s 970ms/step - loss: 0.0036 - acc: 0.9984 - val_loss: 0.1831 - val_acc: 0.9776\n"
          ]
        }
      ]
    },
    {
      "cell_type": "code",
      "metadata": {
        "id": "eXPNFWhp8n7j"
      },
      "source": [
        "model.save(\"/content/drive/MyDrive/best_model/transferlearning_weights.hdf5\")\n"
      ],
      "execution_count": 23,
      "outputs": []
    },
    {
      "cell_type": "code",
      "metadata": {
        "id": "G1iSV0cZmfik",
        "colab": {
          "base_uri": "https://localhost:8080/"
        },
        "outputId": "de8dbecb-60b0-4ebd-f651-35038fa67e50"
      },
      "source": [
        "history.history.keys()"
      ],
      "execution_count": 24,
      "outputs": [
        {
          "output_type": "execute_result",
          "data": {
            "text/plain": [
              "dict_keys(['loss', 'acc', 'val_loss', 'val_acc', 'lr'])"
            ]
          },
          "metadata": {},
          "execution_count": 24
        }
      ]
    },
    {
      "cell_type": "code",
      "metadata": {
        "id": "UvEpYHfym0qG",
        "colab": {
          "base_uri": "https://localhost:8080/",
          "height": 573
        },
        "outputId": "e70dd80d-65d4-41b1-84ab-f9489846adef"
      },
      "source": [
        "plt.plot(history.history['acc'])\n",
        "plt.plot(history.history['val_acc'])\n",
        "plt.title('model accuracy')\n",
        "plt.ylabel('accuracy')\n",
        "plt.xlabel('epoch')\n",
        "plt.legend(['train', 'test'], loc='upper left')\n",
        "plt.show()\n",
        "# summarize history for loss\n",
        "plt.plot(history.history['loss'])\n",
        "plt.plot(history.history['val_loss'])\n",
        "plt.title('model loss')\n",
        "plt.ylabel('loss')\n",
        "plt.xlabel('epoch')\n",
        "plt.legend(['train', 'test'], loc='upper left')\n",
        "plt.show()"
      ],
      "execution_count": 25,
      "outputs": [
        {
          "output_type": "display_data",
          "data": {
            "image/png": "[encoded data removed]",
            "text/plain": [
              "<Figure size 432x288 with 1 Axes>"
            ]
          },
          "metadata": {
            "needs_background": "light"
          }
        },
        {
          "output_type": "display_data",
          "data": {
            "image/png": "[encoded data removed]",
            "text/plain": [
              "<Figure size 432x288 with 1 Axes>"
            ]
          },
          "metadata": {
            "needs_background": "light"
          }
        }
      ]
    },
    {
      "cell_type": "code",
      "metadata": {
        "id": "GYpKYkaem19d"
      },
      "source": [
        "from sklearn.metrics import confusion_matrix\n",
        "pred = model.predict(testX)\n",
        "pred = np.argmax(pred,axis = 1) \n",
        "y_true = np.argmax(testY,axis = 1)"
      ],
      "execution_count": 26,
      "outputs": []
    },
    {
      "cell_type": "code",
      "metadata": {
        "id": "A8iOgqEIm25N",
        "colab": {
          "base_uri": "https://localhost:8080/",
          "height": 385
        },
        "outputId": "d69c3839-395e-4f3f-e4d8-2ff6570e4c74"
      },
      "source": [
        "cm = confusion_matrix(y_true, pred)\n",
        "total = sum(sum(cm))\n",
        "acc = (cm[0, 0] + cm[1, 1]) / total\n",
        "sensitivity = cm[0, 0] / (cm[0, 0] + cm[0, 1])\n",
        "specificity = cm[1, 1] / (cm[1, 0] + cm[1, 1])\n",
        "\n",
        "print(\"Acurácia: {:.4f}\".format(acc))\n",
        "print(\"Sensitividade: {:.4f}\".format(sensitivity))\n",
        "print(\"Especificidade: {:.4f}\".format(specificity))\n",
        "\n",
        "from mlxtend.plotting import plot_confusion_matrix\n",
        "fig, ax = plot_confusion_matrix(conf_mat=cm ,  figsize=(5, 5))\n",
        "plt.show()"
      ],
      "execution_count": 27,
      "outputs": [
        {
          "output_type": "stream",
          "name": "stdout",
          "text": [
            "Acurácia: 0.9776\n",
            "Sensitividade: 0.9840\n",
            "Especificidade: 0.9712\n"
          ]
        },
        {
          "output_type": "display_data",
          "data": {
            "image/png": "[encoded data removed]",
            "text/plain": [
              "<Figure size 360x360 with 1 Axes>"
            ]
          },
          "metadata": {
            "needs_background": "light"
          }
        }
      ]
    }
  ]
}